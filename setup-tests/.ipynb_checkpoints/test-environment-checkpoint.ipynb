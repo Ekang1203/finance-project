{
 "cells": [
  {
   "cell_type": "code",
   "execution_count": 1,
   "id": "cf92051a-a90a-4db9-af2f-088c6afe8ac2",
   "metadata": {},
   "outputs": [
    {
     "name": "stdout",
     "output_type": "stream",
     "text": [
      "✅ Tous les packages importés avec succès !\n",
      "Pandas version: 2.2.3\n",
      "Date du test: 2025-09-28 15:45:08.695348\n"
     ]
    }
   ],
   "source": [
    "# Cellule 1 : Import et test packages\n",
    "import pandas as pd\n",
    "import numpy as np\n",
    "import matplotlib.pyplot as plt\n",
    "import yfinance as yf\n",
    "import requests\n",
    "from datetime import datetime\n",
    "\n",
    "print(\"✅ Tous les packages importés avec succès !\")\n",
    "print(f\"Pandas version: {pd.__version__}\")\n",
    "print(f\"Date du test: {datetime.now()}\")"
   ]
  },
  {
   "cell_type": "code",
   "execution_count": 2,
   "id": "fe2ad423-73fc-47a5-aaa0-144dc07cda7b",
   "metadata": {},
   "outputs": [
    {
     "name": "stdout",
     "output_type": "stream",
     "text": [
      "📈 Test récupération données Bitcoin...\n"
     ]
    },
    {
     "name": "stderr",
     "output_type": "stream",
     "text": [
      "C:\\Users\\olivi\\AppData\\Local\\Temp\\ipykernel_23724\\42438893.py:3: FutureWarning: YF.download() has changed argument auto_adjust default to True\n",
      "  data = yf.download(\"BTC-USD\", start=\"2023-01-01\", end=\"2024-01-01\")\n",
      "[*********************100%***********************]  1 of 1 completed"
     ]
    },
    {
     "name": "stdout",
     "output_type": "stream",
     "text": [
      "Données récupérées: 365 jours\n",
      "\n",
      "5 premiers prix:\n",
      "Ticker           BTC-USD\n",
      "Date                    \n",
      "2023-01-01  16625.080078\n",
      "2023-01-02  16688.470703\n",
      "2023-01-03  16679.857422\n",
      "2023-01-04  16863.238281\n",
      "2023-01-05  16836.736328\n"
     ]
    },
    {
     "name": "stderr",
     "output_type": "stream",
     "text": [
      "\n"
     ]
    }
   ],
   "source": [
    "# Cellule 2 : Test yfinance\n",
    "print(\"📈 Test récupération données Bitcoin...\")\n",
    "data = yf.download(\"BTC-USD\", start=\"2023-01-01\", end=\"2024-01-01\")\n",
    "print(f\"Données récupérées: {len(data)} jours\")\n",
    "print(\"\\n5 premiers prix:\")\n",
    "print(data['Close'].head())\n"
   ]
  },
  {
   "cell_type": "code",
   "execution_count": null,
   "id": "8e492484-8641-4d07-8d7a-dcc1503e8731",
   "metadata": {},
   "outputs": [],
   "source": []
  }
 ],
 "metadata": {
  "kernelspec": {
   "display_name": "Python 3 (ipykernel)",
   "language": "python",
   "name": "python3"
  },
  "language_info": {
   "codemirror_mode": {
    "name": "ipython",
    "version": 3
   },
   "file_extension": ".py",
   "mimetype": "text/x-python",
   "name": "python",
   "nbconvert_exporter": "python",
   "pygments_lexer": "ipython3",
   "version": "3.13.5"
  }
 },
 "nbformat": 4,
 "nbformat_minor": 5
}
